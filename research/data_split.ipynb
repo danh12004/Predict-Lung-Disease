{
 "cells": [
  {
   "cell_type": "code",
   "execution_count": 1,
   "metadata": {},
   "outputs": [],
   "source": [
    "import os"
   ]
  },
  {
   "cell_type": "code",
   "execution_count": 2,
   "metadata": {},
   "outputs": [
    {
     "data": {
      "text/plain": [
       "'d:\\\\project\\\\Predict-Lung-Disease\\\\research'"
      ]
     },
     "execution_count": 2,
     "metadata": {},
     "output_type": "execute_result"
    }
   ],
   "source": [
    "%pwd"
   ]
  },
  {
   "cell_type": "code",
   "execution_count": 3,
   "metadata": {},
   "outputs": [],
   "source": [
    "os.chdir(\"../\")"
   ]
  },
  {
   "cell_type": "code",
   "execution_count": 4,
   "metadata": {},
   "outputs": [
    {
     "data": {
      "text/plain": [
       "'d:\\\\project\\\\Predict-Lung-Disease'"
      ]
     },
     "execution_count": 4,
     "metadata": {},
     "output_type": "execute_result"
    }
   ],
   "source": [
    "%pwd"
   ]
  },
  {
   "cell_type": "code",
   "execution_count": 10,
   "metadata": {},
   "outputs": [],
   "source": [
    "from dataclasses import dataclass\n",
    "from pathlib import Path\n",
    "\n",
    "@dataclass\n",
    "class DataSplitConfig:\n",
    "    root_dir: Path\n",
    "    train_dir: Path\n",
    "    val_dir: Path\n",
    "    test_dir: Path\n",
    "    split_ratios: tuple\n",
    "\n",
    "@dataclass(frozen=True)\n",
    "class DataIngestionConfig:\n",
    "    root_dir: Path\n",
    "    source_URL: str\n",
    "    local_data_file: Path\n",
    "    unzip_dir: Path"
   ]
  },
  {
   "cell_type": "code",
   "execution_count": 6,
   "metadata": {},
   "outputs": [],
   "source": [
    "from src.cnnClassifier.constants import *\n",
    "from src.cnnClassifier.utils.common import read_yaml, create_directories"
   ]
  },
  {
   "cell_type": "code",
   "execution_count": 11,
   "metadata": {},
   "outputs": [],
   "source": [
    "class ConfigurationManager:\n",
    "    def __init__(self, config_filepath=CONFIG_FILE_PATH, params_filepath=PARAMS_FILE_PATH):\n",
    "        self.config = read_yaml(config_filepath)\n",
    "        self.params= read_yaml(params_filepath)\n",
    "\n",
    "    def get_data_ingestion_config(self) -> DataIngestionConfig:\n",
    "        config = self.config.data_ingestion\n",
    "        create_directories([config.root_dir])\n",
    "\n",
    "        data_ingestion_config = DataIngestionConfig(\n",
    "            root_dir=config.root_dir,\n",
    "            source_URL=config.source_URL,\n",
    "            local_data_file=config.local_data_file,\n",
    "            unzip_dir=config.unzip_dir\n",
    "        )\n",
    "\n",
    "        return data_ingestion_config\n",
    "\n",
    "    def get_data_split_config(self) -> DataSplitConfig:\n",
    "        config = self.config.data_split\n",
    "        create_directories([config.root_dir, config.train_dir, config.val_dir, config.test_dir])\n",
    "\n",
    "        data_split_config = DataSplitConfig(\n",
    "            root_dir=Path(config.root_dir),\n",
    "            train_dir=Path(config.train_dir),\n",
    "            val_dir=Path(config.val_dir),\n",
    "            test_dir=Path(config.test_dir),\n",
    "            split_ratios=tuple(config.split_ratios)\n",
    "        )\n",
    "        return data_split_config"
   ]
  },
  {
   "cell_type": "code",
   "execution_count": 17,
   "metadata": {},
   "outputs": [],
   "source": [
    "import os\n",
    "import shutil\n",
    "from sklearn.model_selection import train_test_split\n",
    "from src.cnnClassifier import logger"
   ]
  },
  {
   "cell_type": "code",
   "execution_count": 18,
   "metadata": {},
   "outputs": [],
   "source": [
    "class DataSplitter:\n",
    "    def __init__(self, config: DataSplitConfig):\n",
    "        self.config = config\n",
    "\n",
    "    def split_data(self, source_dir):\n",
    "        classes = os.listdir(source_dir)  # Các thư mục con (class)\n",
    "        train_dir = self.config.train_dir\n",
    "        val_dir = self.config.val_dir\n",
    "        test_dir = self.config.test_dir\n",
    "\n",
    "        for class_name in classes:\n",
    "            class_path = os.path.join(source_dir, class_name)\n",
    "            if os.path.isdir(class_path):  # Kiểm tra nếu là thư mục\n",
    "                files = os.listdir(class_path)  # Lấy danh sách file trong lớp\n",
    "                if len(files) < 2:  # Nếu số file quá ít, bỏ qua\n",
    "                    logger.warning(f\"Lớp {class_name} có ít hơn 2 file, bỏ qua chia dữ liệu.\")\n",
    "                    continue\n",
    "\n",
    "                # Chia dữ liệu thành train, val, test\n",
    "                train_files, temp_files = train_test_split(\n",
    "                    files, test_size=1 - self.config.split_ratios[0], random_state=42\n",
    "                )\n",
    "                val_files, test_files = train_test_split(\n",
    "                    temp_files,\n",
    "                    test_size=self.config.split_ratios[2] / (self.config.split_ratios[1] + self.config.split_ratios[2]),\n",
    "                    random_state=42\n",
    "                )\n",
    "\n",
    "                # Copy file vào các thư mục tương ứng\n",
    "                self._copy_files(class_path, train_files, os.path.join(train_dir, class_name))\n",
    "                self._copy_files(class_path, val_files, os.path.join(val_dir, class_name))\n",
    "                self._copy_files(class_path, test_files, os.path.join(test_dir, class_name))\n",
    "\n",
    "    @staticmethod\n",
    "    def _copy_files(source_class_dir, files, dest_class_dir):\n",
    "        os.makedirs(dest_class_dir, exist_ok=True)  # Tạo thư mục đích nếu chưa tồn tại\n",
    "        for file in files:\n",
    "            src_path = os.path.join(source_class_dir, file)\n",
    "            dest_path = os.path.join(dest_class_dir, file)\n",
    "            shutil.copy(src_path, dest_path)  # Sao chép file"
   ]
  },
  {
   "cell_type": "code",
   "execution_count": 16,
   "metadata": {},
   "outputs": [
    {
     "name": "stdout",
     "output_type": "stream",
     "text": [
      "[2024-11-17 10:48:01,723: INFO: common: yaml file: config\\config.yaml loaded successfully]\n",
      "[2024-11-17 10:48:01,726: INFO: common: yaml file: params.yaml loaded successfully]\n",
      "[2024-11-17 10:48:01,728: INFO: common: creating directory at: artifacts/data_ingestion]\n",
      "[2024-11-17 10:48:01,730: INFO: common: creating directory at: artifacts/data_split]\n",
      "[2024-11-17 10:48:01,731: INFO: common: creating directory at: artifacts/data_split/train]\n",
      "[2024-11-17 10:48:01,733: INFO: common: creating directory at: artifacts/data_split/val]\n",
      "[2024-11-17 10:48:01,737: INFO: common: creating directory at: artifacts/data_split/test]\n"
     ]
    }
   ],
   "source": [
    "try:\n",
    "    config = ConfigurationManager()\n",
    "    data_ingestion_config = config.get_data_ingestion_config()\n",
    "    data_split_config = config.get_data_split_config()\n",
    "\n",
    "    data_splitter = DataSplitter(config=data_split_config)\n",
    "\n",
    "    source_dir = os.path.join(data_ingestion_config.unzip_dir, \"Lung X-Ray Image\")\n",
    "    data_splitter.split_data(source_dir)\n",
    "except Exception as e:\n",
    "    raise e"
   ]
  }
 ],
 "metadata": {
  "kernelspec": {
   "display_name": "textS",
   "language": "python",
   "name": "python3"
  },
  "language_info": {
   "codemirror_mode": {
    "name": "ipython",
    "version": 3
   },
   "file_extension": ".py",
   "mimetype": "text/x-python",
   "name": "python",
   "nbconvert_exporter": "python",
   "pygments_lexer": "ipython3",
   "version": "3.8.19"
  }
 },
 "nbformat": 4,
 "nbformat_minor": 2
}
